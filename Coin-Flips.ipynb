{
 "cells": [
  {
   "cell_type": "code",
   "execution_count": 2,
   "metadata": {
    "collapsed": true
   },
   "outputs": [],
   "source": [
    "import matplotlib.pyplot as plt\n",
    "import math\n",
    "import random"
   ]
  },
  {
   "cell_type": "code",
   "execution_count": 3,
   "metadata": {
    "collapsed": true
   },
   "outputs": [],
   "source": [
    "def coin_flip():\n",
    "    coin = random.randint(0,1)\n",
    "    if coin == 1:\n",
    "        return True\n",
    "    return False"
   ]
  },
  {
   "cell_type": "code",
   "execution_count": 24,
   "metadata": {
    "collapsed": false
   },
   "outputs": [
    {
     "data": {
      "text/plain": [
       "[(0, 1),\n",
       " (1, 1),\n",
       " (2, 2),\n",
       " (4, 4),\n",
       " (9, 7),\n",
       " (16, 16),\n",
       " (30, 34),\n",
       " (61, 67),\n",
       " (119, 137),\n",
       " (256, 256),\n",
       " (519, 505),\n",
       " (1035, 1013),\n",
       " (2109, 1987),\n",
       " (4119, 4073),\n",
       " (8286, 8098),\n",
       " (16461, 16307),\n",
       " (32725, 32811)]"
      ]
     },
     "execution_count": 24,
     "metadata": {},
     "output_type": "execute_result"
    }
   ],
   "source": [
    "def n_flips(n=2**16):\n",
    "    head_flips = 0\n",
    "    tail_flips = 0\n",
    "    checkpoint = []\n",
    "    for flip in range(n):\n",
    "        if coin_flip():\n",
    "            head_flips += 1\n",
    "        else:\n",
    "            tail_flips += 1\n",
    "        if math.log2(flip+1) % 1 == 0:\n",
    "            checkpoint.append((head_flips, tail_flips))\n",
    "    return checkpoint\n",
    "n_flips()"
   ]
  },
  {
   "cell_type": "code",
   "execution_count": 15,
   "metadata": {
    "collapsed": false
   },
   "outputs": [
    {
     "data": {
      "text/plain": [
       "0.5"
      ]
     },
     "execution_count": 15,
     "metadata": {},
     "output_type": "execute_result"
    }
   ],
   "source": [
    "3.5 % 1"
   ]
  },
  {
   "cell_type": "code",
   "execution_count": null,
   "metadata": {
    "collapsed": true
   },
   "outputs": [],
   "source": []
  }
 ],
 "metadata": {
  "kernelspec": {
   "display_name": "Python 3",
   "language": "python",
   "name": "python3"
  },
  "language_info": {
   "codemirror_mode": {
    "name": "ipython",
    "version": 3
   },
   "file_extension": ".py",
   "mimetype": "text/x-python",
   "name": "python",
   "nbconvert_exporter": "python",
   "pygments_lexer": "ipython3",
   "version": "3.4.3"
  }
 },
 "nbformat": 4,
 "nbformat_minor": 0
}
